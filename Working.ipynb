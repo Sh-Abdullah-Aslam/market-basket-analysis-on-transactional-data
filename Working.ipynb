{
 "cells": [
  {
   "cell_type": "code",
   "execution_count": 1,
   "metadata": {},
   "outputs": [],
   "source": [
    "import pandas as pd"
   ]
  },
  {
   "cell_type": "code",
   "execution_count": 2,
   "metadata": {},
   "outputs": [],
   "source": [
    "path_to_data = r\"data/groceries.csv\"\n",
    "transactions = pd.read_csv(path_to_data)"
   ]
  },
  {
   "cell_type": "markdown",
   "metadata": {},
   "source": [
    "# Question no 01"
   ]
  },
  {
   "cell_type": "markdown",
   "metadata": {},
   "source": [
    "## First five transactions"
   ]
  },
  {
   "cell_type": "code",
   "execution_count": 3,
   "metadata": {},
   "outputs": [
    {
     "data": {
      "text/html": [
       "<div>\n",
       "<style scoped>\n",
       "    .dataframe tbody tr th:only-of-type {\n",
       "        vertical-align: middle;\n",
       "    }\n",
       "\n",
       "    .dataframe tbody tr th {\n",
       "        vertical-align: top;\n",
       "    }\n",
       "\n",
       "    .dataframe thead th {\n",
       "        text-align: right;\n",
       "    }\n",
       "</style>\n",
       "<table border=\"1\" class=\"dataframe\">\n",
       "  <thead>\n",
       "    <tr style=\"text-align: right;\">\n",
       "      <th></th>\n",
       "      <th>Item(s)</th>\n",
       "      <th>Item 1</th>\n",
       "      <th>Item 2</th>\n",
       "      <th>Item 3</th>\n",
       "      <th>Item 4</th>\n",
       "      <th>Item 5</th>\n",
       "      <th>Item 6</th>\n",
       "      <th>Item 7</th>\n",
       "      <th>Item 8</th>\n",
       "      <th>Item 9</th>\n",
       "      <th>...</th>\n",
       "      <th>Item 23</th>\n",
       "      <th>Item 24</th>\n",
       "      <th>Item 25</th>\n",
       "      <th>Item 26</th>\n",
       "      <th>Item 27</th>\n",
       "      <th>Item 28</th>\n",
       "      <th>Item 29</th>\n",
       "      <th>Item 30</th>\n",
       "      <th>Item 31</th>\n",
       "      <th>Item 32</th>\n",
       "    </tr>\n",
       "  </thead>\n",
       "  <tbody>\n",
       "    <tr>\n",
       "      <th>0</th>\n",
       "      <td>4</td>\n",
       "      <td>citrus fruit</td>\n",
       "      <td>semi-finished bread</td>\n",
       "      <td>margarine</td>\n",
       "      <td>ready soups</td>\n",
       "      <td>NaN</td>\n",
       "      <td>NaN</td>\n",
       "      <td>NaN</td>\n",
       "      <td>NaN</td>\n",
       "      <td>NaN</td>\n",
       "      <td>...</td>\n",
       "      <td>NaN</td>\n",
       "      <td>NaN</td>\n",
       "      <td>NaN</td>\n",
       "      <td>NaN</td>\n",
       "      <td>NaN</td>\n",
       "      <td>NaN</td>\n",
       "      <td>NaN</td>\n",
       "      <td>NaN</td>\n",
       "      <td>NaN</td>\n",
       "      <td>NaN</td>\n",
       "    </tr>\n",
       "    <tr>\n",
       "      <th>1</th>\n",
       "      <td>3</td>\n",
       "      <td>tropical fruit</td>\n",
       "      <td>yogurt</td>\n",
       "      <td>coffee</td>\n",
       "      <td>NaN</td>\n",
       "      <td>NaN</td>\n",
       "      <td>NaN</td>\n",
       "      <td>NaN</td>\n",
       "      <td>NaN</td>\n",
       "      <td>NaN</td>\n",
       "      <td>...</td>\n",
       "      <td>NaN</td>\n",
       "      <td>NaN</td>\n",
       "      <td>NaN</td>\n",
       "      <td>NaN</td>\n",
       "      <td>NaN</td>\n",
       "      <td>NaN</td>\n",
       "      <td>NaN</td>\n",
       "      <td>NaN</td>\n",
       "      <td>NaN</td>\n",
       "      <td>NaN</td>\n",
       "    </tr>\n",
       "    <tr>\n",
       "      <th>2</th>\n",
       "      <td>1</td>\n",
       "      <td>whole milk</td>\n",
       "      <td>NaN</td>\n",
       "      <td>NaN</td>\n",
       "      <td>NaN</td>\n",
       "      <td>NaN</td>\n",
       "      <td>NaN</td>\n",
       "      <td>NaN</td>\n",
       "      <td>NaN</td>\n",
       "      <td>NaN</td>\n",
       "      <td>...</td>\n",
       "      <td>NaN</td>\n",
       "      <td>NaN</td>\n",
       "      <td>NaN</td>\n",
       "      <td>NaN</td>\n",
       "      <td>NaN</td>\n",
       "      <td>NaN</td>\n",
       "      <td>NaN</td>\n",
       "      <td>NaN</td>\n",
       "      <td>NaN</td>\n",
       "      <td>NaN</td>\n",
       "    </tr>\n",
       "    <tr>\n",
       "      <th>3</th>\n",
       "      <td>4</td>\n",
       "      <td>pip fruit</td>\n",
       "      <td>yogurt</td>\n",
       "      <td>cream cheese</td>\n",
       "      <td>meat spreads</td>\n",
       "      <td>NaN</td>\n",
       "      <td>NaN</td>\n",
       "      <td>NaN</td>\n",
       "      <td>NaN</td>\n",
       "      <td>NaN</td>\n",
       "      <td>...</td>\n",
       "      <td>NaN</td>\n",
       "      <td>NaN</td>\n",
       "      <td>NaN</td>\n",
       "      <td>NaN</td>\n",
       "      <td>NaN</td>\n",
       "      <td>NaN</td>\n",
       "      <td>NaN</td>\n",
       "      <td>NaN</td>\n",
       "      <td>NaN</td>\n",
       "      <td>NaN</td>\n",
       "    </tr>\n",
       "    <tr>\n",
       "      <th>4</th>\n",
       "      <td>4</td>\n",
       "      <td>other vegetables</td>\n",
       "      <td>whole milk</td>\n",
       "      <td>condensed milk</td>\n",
       "      <td>long life bakery product</td>\n",
       "      <td>NaN</td>\n",
       "      <td>NaN</td>\n",
       "      <td>NaN</td>\n",
       "      <td>NaN</td>\n",
       "      <td>NaN</td>\n",
       "      <td>...</td>\n",
       "      <td>NaN</td>\n",
       "      <td>NaN</td>\n",
       "      <td>NaN</td>\n",
       "      <td>NaN</td>\n",
       "      <td>NaN</td>\n",
       "      <td>NaN</td>\n",
       "      <td>NaN</td>\n",
       "      <td>NaN</td>\n",
       "      <td>NaN</td>\n",
       "      <td>NaN</td>\n",
       "    </tr>\n",
       "  </tbody>\n",
       "</table>\n",
       "<p>5 rows × 33 columns</p>\n",
       "</div>"
      ],
      "text/plain": [
       "   Item(s)            Item 1               Item 2          Item 3  \\\n",
       "0        4      citrus fruit  semi-finished bread       margarine   \n",
       "1        3    tropical fruit               yogurt          coffee   \n",
       "2        1        whole milk                  NaN             NaN   \n",
       "3        4         pip fruit               yogurt    cream cheese   \n",
       "4        4  other vegetables           whole milk  condensed milk   \n",
       "\n",
       "                     Item 4 Item 5 Item 6 Item 7 Item 8 Item 9  ... Item 23  \\\n",
       "0               ready soups    NaN    NaN    NaN    NaN    NaN  ...     NaN   \n",
       "1                       NaN    NaN    NaN    NaN    NaN    NaN  ...     NaN   \n",
       "2                       NaN    NaN    NaN    NaN    NaN    NaN  ...     NaN   \n",
       "3              meat spreads    NaN    NaN    NaN    NaN    NaN  ...     NaN   \n",
       "4  long life bakery product    NaN    NaN    NaN    NaN    NaN  ...     NaN   \n",
       "\n",
       "  Item 24 Item 25 Item 26 Item 27 Item 28 Item 29 Item 30 Item 31 Item 32  \n",
       "0     NaN     NaN     NaN     NaN     NaN     NaN     NaN     NaN     NaN  \n",
       "1     NaN     NaN     NaN     NaN     NaN     NaN     NaN     NaN     NaN  \n",
       "2     NaN     NaN     NaN     NaN     NaN     NaN     NaN     NaN     NaN  \n",
       "3     NaN     NaN     NaN     NaN     NaN     NaN     NaN     NaN     NaN  \n",
       "4     NaN     NaN     NaN     NaN     NaN     NaN     NaN     NaN     NaN  \n",
       "\n",
       "[5 rows x 33 columns]"
      ]
     },
     "execution_count": 3,
     "metadata": {},
     "output_type": "execute_result"
    }
   ],
   "source": [
    "transactions.head()"
   ]
  },
  {
   "cell_type": "markdown",
   "metadata": {},
   "source": [
    "# Question no 2"
   ]
  },
  {
   "cell_type": "markdown",
   "metadata": {},
   "source": [
    "## Finding item with maximum occourance"
   ]
  },
  {
   "cell_type": "code",
   "execution_count": 3,
   "metadata": {},
   "outputs": [],
   "source": [
    "no_of_rows, no_of_columns = transactions.shape\n",
    "\n",
    "no_of_times_bought = {}\n",
    "\n",
    "for row in range(no_of_rows):\n",
    "    for column in range(transactions.iloc[row, 0]):\n",
    "        item = transactions.iloc[row, column + 1]\n",
    "        if (item in no_of_times_bought.keys()):\n",
    "            no_of_times_bought[item] = no_of_times_bought[item] + 1\n",
    "        else:\n",
    "            no_of_times_bought[item] = 1"
   ]
  },
  {
   "cell_type": "code",
   "execution_count": 4,
   "metadata": {},
   "outputs": [
    {
     "name": "stdout",
     "output_type": "stream",
     "text": [
      "Item 'whole milk' is maximum bought '2513' times.\n"
     ]
    }
   ],
   "source": [
    "max_bought = max(no_of_times_bought, key=no_of_times_bought.get)\n",
    "print(\"Item '{0}' is maximum bought '{1}' times.\".format(max_bought, max(no_of_times_bought.values())))"
   ]
  },
  {
   "cell_type": "markdown",
   "metadata": {},
   "source": [
    "## Length of longest transaction"
   ]
  },
  {
   "cell_type": "code",
   "execution_count": 6,
   "metadata": {},
   "outputs": [],
   "source": [
    "longest_transaction = max(transactions.iloc[:, 0].values)"
   ]
  },
  {
   "cell_type": "code",
   "execution_count": 7,
   "metadata": {},
   "outputs": [],
   "source": [
    "#list_of_transactions = transactions.iloc[:, 1:].values\n",
    "#for transaction in list_of_transactions:\n",
    "#    for item in transaction:\n",
    "#        if type(item) is not str:\n",
    "#            print(item)"
   ]
  },
  {
   "cell_type": "code",
   "execution_count": 8,
   "metadata": {},
   "outputs": [
    {
     "name": "stdout",
     "output_type": "stream",
     "text": [
      "['frankfurter' 'sausage' 'liver loaf' 'ham' 'chicken' 'beef'\n",
      " 'citrus fruit' 'tropical fruit' 'root vegetables' 'other vegetables'\n",
      " 'whole milk' 'butter' 'curd' 'yogurt' 'whipped/sour cream' 'beverages'\n",
      " 'soft cheese' 'hard cheese' 'cream cheese' 'mayonnaise' 'domestic eggs'\n",
      " 'rolls/buns' 'roll products' 'flour' 'pasta' 'margarine' 'specialty fat'\n",
      " 'sugar' 'soups' 'skin care' 'hygiene articles' 'candles']\n"
     ]
    }
   ],
   "source": [
    "longest_itemset_index = transactions.iloc[:, 0].idxmax()\n",
    "longest_itemset = transactions.iloc[longest_itemset_index, 1:].values\n",
    "print(longest_itemset)"
   ]
  },
  {
   "cell_type": "code",
   "execution_count": 9,
   "metadata": {},
   "outputs": [],
   "source": [
    "#new_dataframe = pd.read_csv('data/new_groceries.csv')"
   ]
  },
  {
   "cell_type": "code",
   "execution_count": 10,
   "metadata": {},
   "outputs": [],
   "source": [
    "#new_dataframe.to_csv(\"hello.csv\")"
   ]
  },
  {
   "cell_type": "code",
   "execution_count": 5,
   "metadata": {},
   "outputs": [],
   "source": [
    "#new_dataframe=new_dataframe.fillna(False)\n",
    "#new_dataframe.head()\n",
    "temp = transactions.drop(columns=['Item(s)'], axis=1)"
   ]
  },
  {
   "cell_type": "code",
   "execution_count": 12,
   "metadata": {},
   "outputs": [
    {
     "name": "stdout",
     "output_type": "stream",
     "text": [
      "['baby food', 'sound storage medium', 'preservation products', 'bags', 'kitchen utensil', 'baby cosmetics', 'frozen chicken', 'toilet cleaner', 'make up remover', 'salad dressing', 'whisky', 'liqueur', 'rubbing alcohol', 'hair spray', 'frozen fruits', 'cream', 'honey', 'decalcifier', 'organic products', 'specialty vegetables', 'ready soups', 'flower soil/fertilizer', 'prosecco', 'cocoa drinks', 'organic sausage', 'pudding powder', 'tidbits', 'cooking chocolate', 'soap', 'bathroom cleaner', 'cookware', 'potato products', 'fish', 'snack products', 'nut snack', 'artif. sweetener', 'canned fruit', 'syrup', 'nuts/prunes', 'abrasive cleaner', 'skin care', 'specialty fat', 'tea', 'brandy', 'light bulbs', 'meat spreads', 'ketchup', 'rum', 'male cosmetics', 'curd cheese', 'cleaner', 'liver loaf', 'spices', 'jam', 'softener', 'sauces', 'sparkling wine', 'cereals', 'dental care', 'kitchen towels', 'female sanitary products', 'finished products', 'vinegar', 'soups', 'zwieback', 'popcorn', 'instant coffee', 'rice', 'liquor (appetizer)', 'Instant food products', 'turkey', 'house keeping products', 'frozen potato products', 'specialty cheese', 'dog food', 'candles', 'sweet spreads', 'chocolate marshmallow', 'mayonnaise', 'photo/film', 'pet care', 'condensed milk', 'roll products', 'flower (seeds)', 'dish cleaner', 'frozen dessert', 'salt', 'canned vegetables', 'liquor', 'spread cheese', 'cling film/bags', 'frozen fish', 'mustard', 'packaged fruit/vegetables', 'cake bar', 'seasonal products', 'canned fish', 'pasta', 'herbs', 'processed cheese', 'soft cheese', 'potted plants', 'flour', 'dishes', 'semi-finished bread', 'baking powder', 'pickled vegetables', 'white wine', 'detergent', 'red/blush wine', 'chewing gum', 'grapes', 'cat food', 'hard cheese', 'sliced cheese', 'ice cream', 'meat', 'beverages', 'ham', 'specialty bar', 'butter milk', 'oil', 'misc. beverages', 'frozen meals', 'candy', 'specialty chocolate', 'onions', 'hygiene articles', 'hamburger meat', 'berries', 'UHT-milk', 'sugar', 'dessert', 'long life bakery product', 'salty snack', 'waffles', 'cream cheese', 'white bread', 'chicken', 'frozen vegetables', 'chocolate', 'napkins', 'beef', 'curd', 'butter', 'pork', 'coffee', 'margarine', 'frankfurter', 'domestic eggs', 'brown bread', 'whipped/sour cream', 'fruit/vegetable juice', 'pip fruit', 'canned beer', 'newspapers', 'bottled beer', 'citrus fruit', 'pastry', 'sausage', 'shopping bags', 'tropical fruit', 'root vegetables', 'bottled water', 'yogurt', 'soda', 'rolls/buns', 'other vegetables', 'whole milk']\n"
     ]
    }
   ],
   "source": [
    "no_of_times_bought_sorted = {k: v for k, v in sorted(no_of_times_bought.items(), key=lambda item: item[1])}\n",
    "print(list(no_of_times_bought_sorted.keys()))"
   ]
  },
  {
   "cell_type": "code",
   "execution_count": 23,
   "metadata": {},
   "outputs": [],
   "source": [
    "#GRO = transactions.unstack().reset_index()\n",
    "#GRO = GRO.pivot_table(index = 0, columns = 'level_1', aggfunc = \"count\", fill_value = 0).T.reset_index()\n",
    "#GRO_copy = GRO.copy()\n",
    "for i in GRO.columns:\n",
    "    if not type(i) == str:\n",
    "        GRO_copy = GRO_copy.drop(columns=[i], axis=1)"
   ]
  },
  {
   "cell_type": "code",
   "execution_count": 28,
   "metadata": {
    "scrolled": true
   },
   "outputs": [],
   "source": [
    "GRO_copy = GRO_copy.drop(columns=['level_0', 'level_1'], axis=1)"
   ]
  },
  {
   "cell_type": "code",
   "execution_count": 45,
   "metadata": {},
   "outputs": [],
   "source": [
    "GRO_copy.to_csv('data/groceries_new.csv')"
   ]
  },
  {
   "cell_type": "code",
   "execution_count": 62,
   "metadata": {},
   "outputs": [],
   "source": [
    "from mlxtend.frequent_patterns import apriori, association_rules\n",
    "\n",
    "APRIORI = apriori(GRO_copy, min_support = 0.02, use_colnames = True)\n",
    "RULES   = association_rules(APRIORI, metric = 'lift', min_threshold = 2)"
   ]
  },
  {
   "cell_type": "code",
   "execution_count": 64,
   "metadata": {},
   "outputs": [],
   "source": [
    "RULES.to_csv('data/RULES.csv')\n",
    "APRIORI.to_csv('data/APRIORI.csv')"
   ]
  },
  {
   "cell_type": "code",
   "execution_count": null,
   "metadata": {},
   "outputs": [],
   "source": []
  },
  {
   "cell_type": "code",
   "execution_count": null,
   "metadata": {},
   "outputs": [],
   "source": []
  }
 ],
 "metadata": {
  "kernelspec": {
   "display_name": "Python 3",
   "language": "python",
   "name": "python3"
  },
  "language_info": {
   "codemirror_mode": {
    "name": "ipython",
    "version": 3
   },
   "file_extension": ".py",
   "mimetype": "text/x-python",
   "name": "python",
   "nbconvert_exporter": "python",
   "pygments_lexer": "ipython3",
   "version": "3.7.3"
  }
 },
 "nbformat": 4,
 "nbformat_minor": 4
}
